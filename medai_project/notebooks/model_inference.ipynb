{
 "cells": [
  {
   "cell_type": "code",
   "execution_count": null,
   "metadata": {},
   "outputs": [],
   "source": [
    "import pickle\n",
    "import pandas as pd\n",
    "\n",
    "# Load the trained model\n",
    "with open('model.pkl', 'rb') as f:\n",
    "    model = pickle.load(f)\n",
    "\n",
    "# Example function for prediction (replace with real logic)\n",
    "def predict_from_input(input_data):\n",
    "    # Mock prediction based on input\n",
    "    return {\n",
    "        \"medicine\": \"Paracetamol\",\n",
    "        \"dosage\": \"500mg\",\n",
    "        \"timing\": \"Morning\",\n",
    "        \"diet_recommendation\": \"Take after meals\"\n",
    "    }\n",
    "\n",
    "# Example input (replace with actual input)\n",
    "input_data = {\n",
    "    'symptom': 'Fever',\n",
    "    'age_group': 'Adult'\n",
    "}\n",
    "\n",
    "# Make a prediction\n",
    "result = predict_from_input(input_data)\n",
    "print(\"Prediction result:\", result)\n"
   ]
  }
 ],
 "metadata": {
  "language_info": {
   "name": "python"
  }
 },
 "nbformat": 4,
 "nbformat_minor": 2
}
